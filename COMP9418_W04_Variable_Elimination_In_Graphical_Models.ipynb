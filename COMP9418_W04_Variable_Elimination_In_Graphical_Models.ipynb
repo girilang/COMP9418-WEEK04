{
 "cells": [
  {
   "cell_type": "markdown",
   "metadata": {},
   "source": [
    "[![Open In Colab](https://colab.research.google.com/assets/colab-badge.svg)](https://colab.research.google.com/github/UNSW-COMP9418/Week04/blob/main/COMP9418_W04_Variable_Elimination_In_Graphical_Models.ipynb)\n",
    "\n",
    "# Variable Elimination in Graphical Models\n",
    "\n",
    "**COMP9418 W04 Tutorial**\n",
    "\n",
    "- Instructor: Gustavo Batista\n",
    "- School of Computer Science and Engineering, UNSW Sydney\n",
    "- Notebook designed by Gustavo Batista and Jeremy Gillen\n",
    "- Last Update 6th September 2022\n",
    "$$\n",
    "% macros\n",
    "\\newcommand{\\indep}{\\perp \\!\\!\\!\\perp}\n",
    "$$"
   ]
  },
  {
   "cell_type": "markdown",
   "metadata": {},
   "source": [
    "In this week's tutorial, we will implement and investigate the efficiency of the Variable Elimination (VE) algorithm and the min-degree heuristic for finding a good elimination order."
   ]
  },
  {
   "cell_type": "markdown",
   "metadata": {},
   "source": [
    "## Technical prerequisites\n",
    "\n",
    "You will need certain packages installed to run this notebook.\n",
    "\n",
    "If you are using Google Colab or ``conda``'s default [full installation](https://conda.io/docs/install/full.html), these requirements should all be satisfied already.\n",
    "\n",
    "If you are using ``virtualenv`` or other native package management, you may need to run this command:\n",
    "\n",
    "```python\n",
    "pip3 install matplotlib\n",
    "```\n",
    "\n",
    "To render a visualization of some graphical models, you also need to install Graphviz [download page](http://www.graphviz.org/download). We have already used this library in Tutorial 1, thus, you should have it installed.\n",
    "\n",
    "Once we have done all that, we import some useful modules for later use."
   ]
  },
  {
   "cell_type": "code",
   "execution_count": 1,
   "metadata": {},
   "outputs": [],
   "source": [
    "# combinatorics\n",
    "from itertools import product, combinations, permutations\n",
    "# visualise plots\n",
    "import matplotlib.pyplot as plt\n",
    "# math library to get access to math.inf\n",
    "import math"
   ]
  },
  {
   "cell_type": "markdown",
   "metadata": {},
   "source": [
    "Import classes from `DiscreteFactors.py`, `Graph.py` and `BayesNet.py` developed in previous tutorials. If you are using Colab, upload the files by clicking the \"files\" ![File](img/file.png) button on the left side of the page, then the \"upload files\" ![Upload](img/upload.png)\n",
    "button. Then select the relevant python files."
   ]
  },
  {
   "cell_type": "code",
   "execution_count": 2,
   "metadata": {},
   "outputs": [],
   "source": [
    "from DiscreteFactors import Factor\n",
    "from Graph import Graph\n",
    "from BayesNet import BayesNet"
   ]
  },
  {
   "cell_type": "markdown",
   "metadata": {},
   "source": [
    "## The ICU network\n",
    "\n",
    "Once again we will use a subset of the ICU-Alarm network. You should remember this Bayesian Network from Week 3 tutorial. In any case, this is a graphical representation of the nine nodes we will use in this tutorial.\n",
    "\n",
    "![ICU Graph](img/ICU_graph.png \"Graph exercise\")"
   ]
  },
  {
   "cell_type": "markdown",
   "metadata": {},
   "source": [
    "In the Week 3 Tutorial, we learned the ICU Alarm network parameters from data. This week, we will simplify the code and provide the conditional probability tables (CPTs) directly. We defined a BayesNet named `ICU_Net` with the CPTs of the nine variables in the subset of the ICU-Alarm network.\n",
    "\n",
    "The `ICU_Net.factors` dictionary associates a key, in this case, the name of the child node, to each factor. Initially, each factor is a CPT. However, as we multiply factors, we will generate tables of different formats. Some of these factors will not be probability distributions. Therefore, we use the name \"factor\" to designate a generalization of the idea of a CPT.\n",
    "\n",
    "As we work with factors, our code will be equally prepared to work with Bayesian and Markov networks we will see in a future lecture.\n",
    "\n",
    "Let's start defining the Bayes Net for ICU-Alarm network. Instead of learning the parameters from data, we will define them directly."
   ]
  },
  {
   "cell_type": "code",
   "execution_count": 3,
   "metadata": {},
   "outputs": [],
   "source": [
    "# define Bayes Net Graph\n",
    "graph = Graph({\n",
    "    'L': ['S', 'V'],\n",
    "    'H': ['S', 'V'],\n",
    "    'S': ['O'],\n",
    "    'V': ['C', 'O'],\n",
    "    'O': ['B'],\n",
    "    'A': ['T'],\n",
    "    'T': ['B'],\n",
    "    'C': [],\n",
    "    'B': [],\n",
    "})\n",
    "# Define outcome space of each random variable\n",
    "outcomeSpace = dict(\n",
    "    H=(0,1),\n",
    "    L=(0,1),\n",
    "    A=(0,1),\n",
    "    V=(0,1),\n",
    "    S=(0,1),\n",
    "    T=(0,1),\n",
    "    C=(0,1,2),\n",
    "    O=(0,1,2),\n",
    "    B=(0,1,2),\n",
    ")\n",
    "# Initialize Bayesian Network object\n",
    "ICU_Net = BayesNet(graph, outcomeSpace)\n",
    "\n",
    "# Add each factor one by one to the ICU_Net object\n",
    "h = Factor(('H',), outcomeSpace)\n",
    "h[0] = 0.8\n",
    "h[1] = 0.2\n",
    "ICU_Net.factors['H'] = h\n",
    "\n",
    "v = Factor(('L', 'H', 'V'), outcomeSpace)\n",
    "v[0, 0, 0] = 0.05\n",
    "v[0, 0, 1] = 0.95\n",
    "v[0, 1, 0] = 0.99\n",
    "v[0, 1, 1] = 0.01\n",
    "v[1, 0, 0] = 0\n",
    "v[1, 0, 1] = 1\n",
    "v[1, 1, 0] = 1\n",
    "v[1, 1, 1] = 0\n",
    "ICU_Net.factors['V'] = v\n",
    "\n",
    "c = Factor(('V', 'C'), outcomeSpace)\n",
    "c[0, 0] = 0.94\n",
    "c[0, 1] = 0.04\n",
    "c[0, 2] = 0.02\n",
    "c[1, 0] = 0.02\n",
    "c[1, 1] = 0.26\n",
    "c[1, 2] = 0.72\n",
    "ICU_Net.factors['C'] = c\n",
    "\n",
    "l = Factor(('L',), outcomeSpace)\n",
    "l[0] = 0.95\n",
    "l[1] = 0.05\n",
    "ICU_Net.factors['L'] = l\n",
    "\n",
    "s = Factor(('L','H','S'), outcomeSpace)\n",
    "s[0, 0, 0] = 0.04\n",
    "s[0, 0, 1] = 0.96\n",
    "s[0, 1, 0] = 0.48\n",
    "s[0, 1, 1] = 0.52\n",
    "s[1, 0, 0] = 0.95\n",
    "s[1, 0, 1] = 0.05\n",
    "s[1, 1, 0] = 0\n",
    "s[1, 1, 1] = 1\n",
    "ICU_Net.factors['S'] = s\n",
    "\n",
    "o = Factor(('S', 'V', 'O'), outcomeSpace)\n",
    "o[0, 0, 0] = 0.97\n",
    "o[0, 0, 1] = 0.01\n",
    "o[0, 0, 2] = 0.02\n",
    "o[0, 1, 0] = 0.78\n",
    "o[0, 1, 1] = 0.19\n",
    "o[0, 1, 2] = 0.03\n",
    "o[1, 0, 0] = 0.22\n",
    "o[1, 0, 1] = 0.76\n",
    "o[1, 0, 2] = 0.02\n",
    "o[1, 1, 0] = 0.01\n",
    "o[1, 1, 1] = 0.01\n",
    "o[1, 1, 2] = 0.98  \n",
    "ICU_Net.factors['O'] = o\n",
    "\n",
    "t = Factor(('A','T'), outcomeSpace)\n",
    "t[0, 0] = 0.30\n",
    "t[0, 1] = 0.70\n",
    "t[1, 0] = 1\n",
    "t[1, 1] = 0\n",
    "ICU_Net.factors['T'] = t\n",
    "\n",
    "b = Factor(('O', 'T', 'B'), outcomeSpace)\n",
    "b[0, 0, 0] = 1\n",
    "b[0, 0, 1] = 0\n",
    "b[0, 0, 2] = 0\n",
    "b[0, 1, 0] = 0.30\n",
    "b[0, 1, 1] = 0.62\n",
    "b[0, 1, 2] = 0.08\n",
    "b[1, 0, 0] = 0.93\n",
    "b[1, 0, 1] = 0.07\n",
    "b[1, 0, 2] = 0\n",
    "b[1, 1, 0] = 0.02\n",
    "b[1, 1, 1] = 0.49\n",
    "b[1, 1, 2] = 0.49\n",
    "b[2, 0, 0] = 0.90\n",
    "b[2, 0, 1] = 0.08\n",
    "b[2, 0, 2] = 0.02\n",
    "b[2, 1, 0] = 0.01\n",
    "b[2, 1, 1] = 0.08\n",
    "b[2, 1, 2] = 0.91 \n",
    "ICU_Net.factors['B'] = b\n",
    "\n",
    "a = Factor(('A',), outcomeSpace)\n",
    "a[0] = 0.99\n",
    "a[1] = 0.01\n",
    "ICU_Net.factors['A'] = a\n"
   ]
  },
  {
   "cell_type": "markdown",
   "metadata": {},
   "source": [
    "## Elimination Order Width\n",
    "\n",
    "Let's start our code with a straightforward function that will help us to build more complex ones. An essential concept in variable elimination is the `width` of an elimination order. It is defined as the number of variables (after summation) of the largest factor created during the execution of the Variable Elimination (VE) algorithm.\n",
    "\n",
    "The `width` of an elimination order is a measure of its quality. Elimination orders with small `width` tend to be more efficient than the ones with larger `width`.\n",
    "\n",
    "We can efficiently compute the `width` of an elimination order by simulating the VE algorithm. The idea is that we will keep track of the factor domains, but we will not perform the multiplication and summation of factors. \n",
    "\n",
    "### Exercise\n",
    "\n",
    "We will implement our first function `width` that returns the width of an elimination order. \n",
    "This function will take an elimination order (list of variable names), and go through the motions of Variable Elimination to find the width of this order."
   ]
  },
  {
   "cell_type": "code",
   "execution_count": 5,
   "metadata": {},
   "outputs": [
    {
     "ename": "TypeError",
     "evalue": "'ellipsis' object is not iterable",
     "output_type": "error",
     "traceback": [
      "\u001b[0;31m---------------------------------------------------------------------------\u001b[0m",
      "\u001b[0;31mTypeError\u001b[0m                                 Traceback (most recent call last)",
      "\u001b[0;32m<ipython-input-5-33053bff9a93>\u001b[0m in \u001b[0;36m<module>\u001b[0;34m\u001b[0m\n\u001b[1;32m     46\u001b[0m \u001b[0;31m# Test code\u001b[0m\u001b[0;34m\u001b[0m\u001b[0;34m\u001b[0m\u001b[0;34m\u001b[0m\u001b[0m\n\u001b[1;32m     47\u001b[0m \u001b[0;34m\u001b[0m\u001b[0m\n\u001b[0;32m---> 48\u001b[0;31m \u001b[0mprint\u001b[0m\u001b[0;34m(\u001b[0m\u001b[0;34m\"Elimination order width: %d\"\u001b[0m \u001b[0;34m%\u001b[0m \u001b[0mICU_Net\u001b[0m\u001b[0;34m.\u001b[0m\u001b[0mwidth\u001b[0m\u001b[0;34m(\u001b[0m\u001b[0;34m[\u001b[0m\u001b[0;34m'V'\u001b[0m\u001b[0;34m,\u001b[0m \u001b[0;34m'H'\u001b[0m\u001b[0;34m,\u001b[0m \u001b[0;34m'S'\u001b[0m\u001b[0;34m,\u001b[0m \u001b[0;34m'L'\u001b[0m\u001b[0;34m,\u001b[0m \u001b[0;34m'O'\u001b[0m\u001b[0;34m,\u001b[0m \u001b[0;34m'A'\u001b[0m\u001b[0;34m,\u001b[0m \u001b[0;34m'T'\u001b[0m\u001b[0;34m,\u001b[0m \u001b[0;34m'B'\u001b[0m\u001b[0;34m,\u001b[0m \u001b[0;34m'C'\u001b[0m\u001b[0;34m]\u001b[0m\u001b[0;34m)\u001b[0m\u001b[0;34m)\u001b[0m\u001b[0;34m\u001b[0m\u001b[0;34m\u001b[0m\u001b[0m\n\u001b[0m",
      "\u001b[0;32m<ipython-input-5-33053bff9a93>\u001b[0m in \u001b[0;36mwidth\u001b[0;34m(self, order)\u001b[0m\n\u001b[1;32m     19\u001b[0m \u001b[0;34m\u001b[0m\u001b[0m\n\u001b[1;32m     20\u001b[0m             \u001b[0;31m# Lets iterate over all factors\u001b[0m\u001b[0;34m\u001b[0m\u001b[0;34m\u001b[0m\u001b[0;34m\u001b[0m\u001b[0m\n\u001b[0;32m---> 21\u001b[0;31m             \u001b[0;32mfor\u001b[0m \u001b[0mf_dom\u001b[0m \u001b[0;32min\u001b[0m \u001b[0mfactorList\u001b[0m\u001b[0;34m:\u001b[0m\u001b[0;34m\u001b[0m\u001b[0;34m\u001b[0m\u001b[0m\n\u001b[0m\u001b[1;32m     22\u001b[0m                 \u001b[0;31m# and select the ones that have the variable to be eliminated\u001b[0m\u001b[0;34m\u001b[0m\u001b[0;34m\u001b[0m\u001b[0;34m\u001b[0m\u001b[0m\n\u001b[1;32m     23\u001b[0m                 \u001b[0;32mif\u001b[0m \u001b[0mvar\u001b[0m \u001b[0;32min\u001b[0m \u001b[0mf_dom\u001b[0m\u001b[0;34m:\u001b[0m\u001b[0;34m\u001b[0m\u001b[0;34m\u001b[0m\u001b[0m\n",
      "\u001b[0;31mTypeError\u001b[0m: 'ellipsis' object is not iterable"
     ]
    }
   ],
   "source": [
    "class BayesNet(BayesNet):\n",
    "    def width(self, order):\n",
    "        \"\"\"\n",
    "        argument \n",
    "        `order`, a list of variable names specifying an elimination order.\n",
    "\n",
    "        Returns the width of the elimination order, i.e., the number of variables of the largest factor\n",
    "        \"\"\"   \n",
    "        # Initialize w, a variable that has a width of the elimination order\n",
    "        w = 0\n",
    "        # Let's make a list of tuples, where each tuple is a factor domain. Create one tuple for each factor in the BN\n",
    "        factorList = ... # TODO 1 or 2 lines\n",
    "        # We process the factor in elimination order\n",
    "        for var in order:\n",
    "            # This is the domain of the new factor. We use sets as it is handy to eliminate duplicate variables\n",
    "            newFactorDom = set()\n",
    "            # A list to keep track of all the factors we will keep for the next iteration (all factors not containing `var`)\n",
    "            updatedFactorsList = list()            \n",
    "\n",
    "            # Lets iterate over all factors\n",
    "            for f_dom in factorList:\n",
    "                # and select the ones that have the variable to be eliminated\n",
    "                if var in f_dom:\n",
    "                    # Merge the selected domain `f_dom` into the `newFactorDomain` set, simulating a join operation\n",
    "                    ... # TODO 1 line\n",
    "                else:\n",
    "                    # since it doesn't contain `var`, we add the `var` factor to the updatedFactorsList to be processed in the next iteration\n",
    "                    ... # TODO 1 line\n",
    "\n",
    "            # Now, we need to remove var from the domain of the new factor. We are simulating a summation\n",
    "            ...         # TODO Remove var from the set newFactorDom by calling the method remove(). 1 line\n",
    "            # Let's check if we have found a new largest factor\n",
    "            if len(newFactorDom) > w:\n",
    "                w = len(newFactorDom)\n",
    "            # add the new combined factor domain to the list\n",
    "            updatedFactorsList.append(newFactorDom)\n",
    "            # replace factor list with updated factor list (getting rid of all factors containing var)\n",
    "            factorList = updatedFactorsList\n",
    "\n",
    "        return w\n",
    "\n",
    "# reinitialise ICU_net so that it has width function\n",
    "ICU_Net = BayesNet(ICU_Net.graph, ICU_Net.outcomeSpace, ICU_Net.factors)\n",
    "\n",
    "######################\n",
    "# Test code\n",
    "\n",
    "print(\"Elimination order width: %d\" % ICU_Net.width(['V', 'H', 'S', 'L', 'O', 'A', 'T', 'B', 'C']))"
   ]
  },
  {
   "cell_type": "markdown",
   "metadata": {},
   "source": [
    "If you implemented your code correctly, you should see the following output:\n",
    "\n",
    "```\n",
    "Elimination order width: 5\n",
    "```\n",
    "\n",
    "There are several observations about the `width` function:\n",
    "\n",
    "1. Each iteration eliminates one variable in the list `order`.\n",
    "2. The elimination is achieved by scanning `factors` and finding all factors whose domain has the elimination variable.\n",
    "3. We simulate the join operation by creating a list with all variables present in factors that contain the elimination variable.\n",
    "4. We remove the elimination variable before we compute the `width`. Therefore, we obtain the value according to the definition.\n",
    "5. We simulate the creation of a new factor and insert this dummy factor in the dictionary of factors."
   ]
  },
  {
   "cell_type": "markdown",
   "metadata": {},
   "source": [
    "## Variable Elimination (VE) Algorithm\n",
    "\n",
    "Let's use the previous function to implement the first version of our VE algorithm. We will need the join and marginalize operations implemented in the earlier tutorials in the Factor class. \n"
   ]
  },
  {
   "cell_type": "markdown",
   "metadata": {},
   "source": [
    "### Exercise\n",
    "\n",
    "Now we are in the position to implement the function `VE` that will execute the Variable Elimination algorithm for a given variable order. The code is very similar to the `width` function, except instead of only keeping track of the factor domains, we will keep track of the whole factor objects. \n",
    "\n",
    "As part of this exercise, we will use global variables `muls` and `adds` to count the number of multiplications and additions that will during the join and marginalize operations. We will use this to measure the efficiency of the algorithm. Do this part of the algorithm after getting the function working. For this exercise, it may be useful to know that if `f` is a factor object, you can use `f.table.size` to get the number of elements in the table that makes up that factor. This is useful when working out how many multiplications occured in a join operation, and how many additions happened in a marginalize operation."
   ]
  },
  {
   "cell_type": "code",
   "execution_count": 5,
   "metadata": {},
   "outputs": [
    {
     "ename": "TypeError",
     "evalue": "'ellipsis' object is not iterable",
     "output_type": "error",
     "traceback": [
      "\u001b[0;31m---------------------------------------------------------------------------\u001b[0m",
      "\u001b[0;31mTypeError\u001b[0m                                 Traceback (most recent call last)",
      "\u001b[0;32m<ipython-input-5-b688374420a9>\u001b[0m in \u001b[0;36m<module>\u001b[0;34m\u001b[0m\n\u001b[1;32m     54\u001b[0m \u001b[0mmuls\u001b[0m \u001b[0;34m=\u001b[0m \u001b[0;36m0\u001b[0m\u001b[0;34m\u001b[0m\u001b[0;34m\u001b[0m\u001b[0m\n\u001b[1;32m     55\u001b[0m \u001b[0;34m\u001b[0m\u001b[0m\n\u001b[0;32m---> 56\u001b[0;31m \u001b[0mprint\u001b[0m\u001b[0;34m(\u001b[0m\u001b[0mICU_Net\u001b[0m\u001b[0;34m.\u001b[0m\u001b[0mVE\u001b[0m\u001b[0;34m(\u001b[0m\u001b[0;34m[\u001b[0m\u001b[0;34m'V'\u001b[0m\u001b[0;34m,\u001b[0m \u001b[0;34m'H'\u001b[0m\u001b[0;34m,\u001b[0m \u001b[0;34m'S'\u001b[0m\u001b[0;34m,\u001b[0m \u001b[0;34m'L'\u001b[0m\u001b[0;34m,\u001b[0m \u001b[0;34m'O'\u001b[0m\u001b[0;34m,\u001b[0m \u001b[0;34m'A'\u001b[0m\u001b[0;34m,\u001b[0m \u001b[0;34m'T'\u001b[0m\u001b[0;34m,\u001b[0m \u001b[0;34m'B'\u001b[0m\u001b[0;34m]\u001b[0m\u001b[0;34m)\u001b[0m\u001b[0;34m)\u001b[0m\u001b[0;34m\u001b[0m\u001b[0;34m\u001b[0m\u001b[0m\n\u001b[0m\u001b[1;32m     57\u001b[0m \u001b[0mprint\u001b[0m\u001b[0;34m(\u001b[0m\u001b[0;34m\"Number of additions: %d\"\u001b[0m \u001b[0;34m%\u001b[0m\u001b[0madds\u001b[0m\u001b[0;34m)\u001b[0m\u001b[0;34m\u001b[0m\u001b[0;34m\u001b[0m\u001b[0m\n\u001b[1;32m     58\u001b[0m \u001b[0mprint\u001b[0m\u001b[0;34m(\u001b[0m\u001b[0;34m\"Number of multiplications: %d\"\u001b[0m \u001b[0;34m%\u001b[0m\u001b[0mmuls\u001b[0m\u001b[0;34m)\u001b[0m\u001b[0;34m\u001b[0m\u001b[0;34m\u001b[0m\u001b[0m\n",
      "\u001b[0;32m<ipython-input-5-b688374420a9>\u001b[0m in \u001b[0;36mVE\u001b[0;34m(self, order)\u001b[0m\n\u001b[1;32m     18\u001b[0m             \u001b[0mupdatedFactorsList\u001b[0m \u001b[0;34m=\u001b[0m \u001b[0mlist\u001b[0m\u001b[0;34m(\u001b[0m\u001b[0;34m)\u001b[0m\u001b[0;34m\u001b[0m\u001b[0;34m\u001b[0m\u001b[0m\n\u001b[1;32m     19\u001b[0m \u001b[0;34m\u001b[0m\u001b[0m\n\u001b[0;32m---> 20\u001b[0;31m             \u001b[0;32mfor\u001b[0m \u001b[0mf\u001b[0m \u001b[0;32min\u001b[0m \u001b[0mfactorList\u001b[0m\u001b[0;34m:\u001b[0m\u001b[0;34m\u001b[0m\u001b[0;34m\u001b[0m\u001b[0m\n\u001b[0m\u001b[1;32m     21\u001b[0m                 \u001b[0;31m# and select the ones that have the variable to be eliminated\u001b[0m\u001b[0;34m\u001b[0m\u001b[0;34m\u001b[0m\u001b[0;34m\u001b[0m\u001b[0m\n\u001b[1;32m     22\u001b[0m                 \u001b[0;32mif\u001b[0m \u001b[0mvar\u001b[0m \u001b[0;32min\u001b[0m \u001b[0mf\u001b[0m\u001b[0;34m.\u001b[0m\u001b[0mdomain\u001b[0m\u001b[0;34m:\u001b[0m\u001b[0;34m\u001b[0m\u001b[0;34m\u001b[0m\u001b[0m\n",
      "\u001b[0;31mTypeError\u001b[0m: 'ellipsis' object is not iterable"
     ]
    }
   ],
   "source": [
    "class BayesNet(BayesNet):\n",
    "    def VE(self, order):\n",
    "        \"\"\"\n",
    "        argument \n",
    "        `order`, a list of variable names specifying an elimination order.\n",
    "\n",
    "        Returns a single factor, the which remains after eliminating all other factors\n",
    "        \"\"\"   \n",
    "        global muls, adds\n",
    "        # Let's make a list of all factor objects\n",
    "        factorList = ... # 1 line\n",
    "\n",
    "        for var in order:\n",
    "            # We create an empty factor as an accumulator\n",
    "            newFactor = Factor(tuple(), self.outcomeSpace)\n",
    "            first = True\n",
    "            # A list to keep track of all the factors we will keep for the next step\n",
    "            updatedFactorsList = list()            \n",
    "\n",
    "            for f in factorList:\n",
    "                # and select the ones that have the variable to be eliminated\n",
    "                if var in f.domain:\n",
    "                    # join the factor `f` with the accumulator `newFactor`\n",
    "                    newFactor = ... # TODO 1 line\n",
    "                    if not first:\n",
    "                        muls += newFactor.table.size # keep track of multiplications being done with each join operation\n",
    "                    first = False\n",
    "                        \n",
    "                else:\n",
    "                    # since the factor `f` doesn't contain `var`, we will keep it for next iteration\n",
    "                    ... # TODO 1 line\n",
    "                    \n",
    "            # Now, we need to remove var from the domain of the new factor. \n",
    "            adds += newFactor.table.size # keep track of the number of additions being done in the following marginalization\n",
    "            newFactor = ... # TODO marginalize out `var`\n",
    "            # append the new combined factor to the factor list\n",
    "            updatedFactorsList.append(newFactor)\n",
    "            # replace factorList with the updated factor list, ready for the next iteration\n",
    "            factorList = updatedFactorsList\n",
    "        # for the final step, we join all remaining factors (usually there will only be one factor remaining)\n",
    "        returnFactor = Factor(tuple(), self.outcomeSpace)\n",
    "        for f in factorList:\n",
    "            returnFactor = returnFactor*f\n",
    "        return returnFactor\n",
    "\n",
    "\n",
    "######################\n",
    "# Test code\n",
    "\n",
    "# reinitialise ICU_net so that it has VE function\n",
    "ICU_Net = BayesNet(ICU_Net.graph, ICU_Net.outcomeSpace, ICU_Net.factors)\n",
    "\n",
    "adds = 0\n",
    "muls = 0\n",
    "\n",
    "print(ICU_Net.VE(['V', 'H', 'S', 'L', 'O', 'A', 'T', 'B']))\n",
    "print(\"Number of additions: %d\" %adds)\n",
    "print(\"Number of multiplications: %d\" %muls)"
   ]
  },
  {
   "cell_type": "markdown",
   "metadata": {},
   "source": [
    "If you implemented your code correctly, you should see the following output:\n",
    "\n",
    "```\n",
    "╒═════╤══════════╕\n",
    "│   C │       Pr │\n",
    "╞═════╪══════════╡\n",
    "│   0 │ 0.237212 │\n",
    "├─────┼──────────┤\n",
    "│   1 │ 0.208058 │\n",
    "├─────┼──────────┤\n",
    "│   2 │ 0.55473  │\n",
    "╘═════╧══════════╛\n",
    "\n",
    "Number of additions: 355\n",
    "Number of multiplications: 342\n",
    "```"
   ]
  },
  {
   "cell_type": "markdown",
   "metadata": {},
   "source": [
    "## Inference by Enumeration\n",
    "\n",
    "It is unclear how good these numbers of additions and multiplications are. We need to compare them with other elimination orders. However, we will first compute the number of operations required by inference by enumeration. Inference by enumeration will provide an upper-bound of the number of operations as well as an idea of the VE efficiency.\n",
    "\n",
    "Reminder that inference by enumeration is the algorithm that joins all factors before eliminating any variables. We implemented this algorithm last week, this time we will count `adds` and `muls`.\n",
    "\n",
    "## Exercise\n",
    "\n",
    "Implement the `inferenceByEnum` function by changing the order of the operations. Join all factors first and then eliminate the variables in `order`."
   ]
  },
  {
   "cell_type": "code",
   "execution_count": 7,
   "metadata": {},
   "outputs": [
    {
     "ename": "TypeError",
     "evalue": "'ellipsis' object is not iterable",
     "output_type": "error",
     "traceback": [
      "\u001b[0;31m---------------------------------------------------------------------------\u001b[0m",
      "\u001b[0;31mTypeError\u001b[0m                                 Traceback (most recent call last)",
      "\u001b[0;32m<ipython-input-7-eedf5dd39bda>\u001b[0m in \u001b[0;36m<module>\u001b[0;34m\u001b[0m\n\u001b[1;32m     32\u001b[0m \u001b[0madds\u001b[0m \u001b[0;34m=\u001b[0m \u001b[0;36m0\u001b[0m\u001b[0;34m\u001b[0m\u001b[0;34m\u001b[0m\u001b[0m\n\u001b[1;32m     33\u001b[0m \u001b[0mmuls\u001b[0m \u001b[0;34m=\u001b[0m \u001b[0;36m0\u001b[0m\u001b[0;34m\u001b[0m\u001b[0;34m\u001b[0m\u001b[0m\n\u001b[0;32m---> 34\u001b[0;31m \u001b[0mprint\u001b[0m\u001b[0;34m(\u001b[0m\u001b[0mICU_Net\u001b[0m\u001b[0;34m.\u001b[0m\u001b[0minferenceByEnum\u001b[0m\u001b[0;34m(\u001b[0m\u001b[0;34m[\u001b[0m\u001b[0;34m'V'\u001b[0m\u001b[0;34m,\u001b[0m \u001b[0;34m'H'\u001b[0m\u001b[0;34m,\u001b[0m \u001b[0;34m'S'\u001b[0m\u001b[0;34m,\u001b[0m \u001b[0;34m'L'\u001b[0m\u001b[0;34m,\u001b[0m \u001b[0;34m'O'\u001b[0m\u001b[0;34m,\u001b[0m \u001b[0;34m'A'\u001b[0m\u001b[0;34m,\u001b[0m \u001b[0;34m'T'\u001b[0m\u001b[0;34m,\u001b[0m \u001b[0;34m'B'\u001b[0m\u001b[0;34m]\u001b[0m\u001b[0;34m)\u001b[0m\u001b[0;34m)\u001b[0m\u001b[0;34m\u001b[0m\u001b[0;34m\u001b[0m\u001b[0m\n\u001b[0m\u001b[1;32m     35\u001b[0m \u001b[0mprint\u001b[0m\u001b[0;34m(\u001b[0m\u001b[0;34m\"Number of additions: %d\"\u001b[0m \u001b[0;34m%\u001b[0m\u001b[0madds\u001b[0m\u001b[0;34m)\u001b[0m\u001b[0;34m\u001b[0m\u001b[0;34m\u001b[0m\u001b[0m\n\u001b[1;32m     36\u001b[0m \u001b[0mprint\u001b[0m\u001b[0;34m(\u001b[0m\u001b[0;34m\"Number of multiplications: %d\"\u001b[0m \u001b[0;34m%\u001b[0m\u001b[0mmuls\u001b[0m\u001b[0;34m)\u001b[0m\u001b[0;34m\u001b[0m\u001b[0;34m\u001b[0m\u001b[0m\n",
      "\u001b[0;32m<ipython-input-7-eedf5dd39bda>\u001b[0m in \u001b[0;36minferenceByEnum\u001b[0;34m(self, order)\u001b[0m\n\u001b[1;32m     10\u001b[0m         \u001b[0mfirst\u001b[0m \u001b[0;34m=\u001b[0m \u001b[0;32mTrue\u001b[0m\u001b[0;34m\u001b[0m\u001b[0;34m\u001b[0m\u001b[0m\n\u001b[1;32m     11\u001b[0m         \u001b[0;31m# Lets iterate over all factors\u001b[0m\u001b[0;34m\u001b[0m\u001b[0;34m\u001b[0m\u001b[0;34m\u001b[0m\u001b[0m\n\u001b[0;32m---> 12\u001b[0;31m         \u001b[0;32mfor\u001b[0m \u001b[0mf\u001b[0m \u001b[0;32min\u001b[0m \u001b[0mfactorList\u001b[0m\u001b[0;34m:\u001b[0m\u001b[0;34m\u001b[0m\u001b[0;34m\u001b[0m\u001b[0m\n\u001b[0m\u001b[1;32m     13\u001b[0m             \u001b[0mnewFactor\u001b[0m \u001b[0;34m=\u001b[0m \u001b[0;34m...\u001b[0m \u001b[0;31m# TODO join 1 line\u001b[0m\u001b[0;34m\u001b[0m\u001b[0;34m\u001b[0m\u001b[0m\n\u001b[1;32m     14\u001b[0m             \u001b[0;32mif\u001b[0m \u001b[0;32mnot\u001b[0m \u001b[0mfirst\u001b[0m\u001b[0;34m:\u001b[0m\u001b[0;34m\u001b[0m\u001b[0;34m\u001b[0m\u001b[0m\n",
      "\u001b[0;31mTypeError\u001b[0m: 'ellipsis' object is not iterable"
     ]
    }
   ],
   "source": [
    "class BayesNet(BayesNet):\n",
    "    def inferenceByEnum(self, order):\n",
    "        global muls, adds\n",
    "        # Let's make a list of factors\n",
    "        factorList = ... # TODO 1 line\n",
    "        \n",
    "        # Create an empty factor as accumulator \n",
    "        newFactor = ... # TODO 1 line\n",
    "\n",
    "        first = True\n",
    "        # Lets iterate over all factors\n",
    "        for f in factorList:\n",
    "            newFactor = ... # TODO join 1 line\n",
    "            if not first:\n",
    "                ... # TODO count multiplications 1 line\n",
    "            first = False\n",
    "            \n",
    "        for var in order:\n",
    "            # Now, we need to remove var from the domain of the new factor.\n",
    "            ... # TODO count additions 1 line\n",
    "            newFactor = ... # TODO marginalize 1 line\n",
    "\n",
    "        return newFactor\n",
    "\n",
    "\n",
    "######################\n",
    "# Test code\n",
    "\n",
    "# reinitialise ICU_net so that it has VE function\n",
    "ICU_Net = BayesNet(ICU_Net.graph, ICU_Net.outcomeSpace, ICU_Net.factors)\n",
    "\n",
    "adds = 0\n",
    "muls = 0\n",
    "print(ICU_Net.inferenceByEnum(['V', 'H', 'S', 'L', 'O', 'A', 'T', 'B']))\n",
    "print(\"Number of additions: %d\" %adds)\n",
    "print(\"Number of multiplications: %d\" %muls)        "
   ]
  },
  {
   "cell_type": "markdown",
   "metadata": {},
   "source": [
    "If you implemented your code correctly, you should see the following output:\n",
    "\n",
    "```\n",
    "╒═════╤══════════╕\n",
    "│   C │       Pr │\n",
    "╞═════╪══════════╡\n",
    "│   0 │ 0.237212 │\n",
    "├─────┼──────────┤\n",
    "│   1 │ 0.208058 │\n",
    "├─────┼──────────┤\n",
    "│   2 │ 0.55473  │\n",
    "╘═════╧══════════╛\n",
    "\n",
    "Number of additions: 3411\n",
    "Number of multiplications: 4280\n",
    "```"
   ]
  },
  {
   "cell_type": "markdown",
   "metadata": {},
   "source": [
    "## Width and Number of Operations\n",
    "\n",
    "An interesting question is how the width measure correlates with the actual number of addition and multiplication operations. We can plot these two measures of inference efficiency.\n",
    "\n",
    "### Exercise\n",
    "\n",
    "Compare the number of multiplications with the width of the elimination order. We have created a piece of code that does part of the work for you. The idea is to generate all possible permutations of the elimination list and measure the width and number of multiplications. We will work with only seven variables since the number of permutations grows exponentially with the number of variables."
   ]
  },
  {
   "cell_type": "code",
   "execution_count": 10,
   "metadata": {},
   "outputs": [
    {
     "ename": "TypeError",
     "evalue": "%d format: a number is required, not ellipsis",
     "output_type": "error",
     "traceback": [
      "\u001b[0;31m---------------------------------------------------------------------------\u001b[0m",
      "\u001b[0;31mTypeError\u001b[0m                                 Traceback (most recent call last)",
      "\u001b[0;32m<ipython-input-10-2a297abaa02e>\u001b[0m in \u001b[0;36m<module>\u001b[0;34m\u001b[0m\n\u001b[1;32m     14\u001b[0m     \u001b[0;31m# Print some information since it may take some time to finish\u001b[0m\u001b[0;34m\u001b[0m\u001b[0;34m\u001b[0m\u001b[0;34m\u001b[0m\u001b[0m\n\u001b[1;32m     15\u001b[0m     \u001b[0;32mif\u001b[0m \u001b[0;34m(\u001b[0m\u001b[0mi\u001b[0m \u001b[0;34m%\u001b[0m \u001b[0;36m100\u001b[0m \u001b[0;34m==\u001b[0m \u001b[0;36m0\u001b[0m\u001b[0;34m)\u001b[0m\u001b[0;34m:\u001b[0m\u001b[0;34m\u001b[0m\u001b[0;34m\u001b[0m\u001b[0m\n\u001b[0;32m---> 16\u001b[0;31m         \u001b[0mprint\u001b[0m\u001b[0;34m(\u001b[0m\u001b[0;34m\"%6d %6d %1.6f\"\u001b[0m \u001b[0;34m%\u001b[0m \u001b[0;34m(\u001b[0m\u001b[0mi\u001b[0m\u001b[0;34m,\u001b[0m \u001b[0mw\u001b[0m\u001b[0;34m,\u001b[0m \u001b[0mmuls\u001b[0m\u001b[0;34m)\u001b[0m\u001b[0;34m)\u001b[0m\u001b[0;34m\u001b[0m\u001b[0;34m\u001b[0m\u001b[0m\n\u001b[0m\u001b[1;32m     17\u001b[0m \u001b[0;31m# Generate plots\u001b[0m\u001b[0;34m\u001b[0m\u001b[0;34m\u001b[0m\u001b[0;34m\u001b[0m\u001b[0m\n\u001b[1;32m     18\u001b[0m \u001b[0mplt\u001b[0m\u001b[0;34m.\u001b[0m\u001b[0mplot\u001b[0m\u001b[0;34m(\u001b[0m\u001b[0mwidthList\u001b[0m\u001b[0;34m,\u001b[0m \u001b[0mmulList\u001b[0m\u001b[0;34m,\u001b[0m \u001b[0;34m'ro'\u001b[0m\u001b[0;34m)\u001b[0m\u001b[0;34m\u001b[0m\u001b[0;34m\u001b[0m\u001b[0m\n",
      "\u001b[0;31mTypeError\u001b[0m: %d format: a number is required, not ellipsis"
     ]
    }
   ],
   "source": [
    "# List with width of all permutations of the elimination list ('V', 'H', 'S', 'L', 'O', 'A', 'T')\n",
    "widthList = []\n",
    "# List with number of multiplications ofr the same permutations\n",
    "mulList = []\n",
    "for i, perm in enumerate(permutations(('V', 'H', 'S', 'L', 'O', 'A', 'T'))):\n",
    "    # Call the width function for the permutation in p\n",
    "    w = ... # TODO compute width of order. 1 line\n",
    "    widthList.append(w)\n",
    "    # Initialize muls\n",
    "    muls = 0    \n",
    "    # Call the VE function to compute the number of multiplications\n",
    "    ... # TODO 1 line\n",
    "    mulList.append(muls)\n",
    "    # Print some information since it may take some time to finish\n",
    "    if (i % 100 == 0):\n",
    "        print(\"%6d %6d %1.6f\" % (i, w, muls))\n",
    "# Generate plots\n",
    "plt.plot(widthList, mulList, 'ro')\n",
    "plt.xlabel(\"Width\")\n",
    "plt.ylabel(\"Number of muls\")\n",
    "plt.show()"
   ]
  },
  {
   "cell_type": "code",
   "execution_count": 11,
   "metadata": {},
   "outputs": [
    {
     "name": "stdout",
     "output_type": "stream",
     "text": [
      "     0      5 342.000000\n",
      "   100      5 347.000000\n",
      "   200      5 442.000000\n",
      "   300      5 558.000000\n",
      "   400      6 874.000000\n",
      "   500      5 333.000000\n",
      "   600      5 374.000000\n",
      "   700      5 428.000000\n",
      "   800      4 298.000000\n",
      "   900      4 250.000000\n",
      "  1000      3 111.000000\n",
      "  1100      5 498.000000\n",
      "  1200      4 226.000000\n",
      "  1300      4 280.000000\n",
      "  1400      4 258.000000\n",
      "  1500      5 490.000000\n",
      "  1600      4 159.000000\n",
      "  1700      4 314.000000\n",
      "  1800      5 490.000000\n",
      "  1900      5 582.000000\n",
      "  2000      5 330.000000\n",
      "  2100      4 314.000000\n",
      "  2200      4 199.000000\n",
      "  2300      4 266.000000\n",
      "  2400      3 178.000000\n",
      "  2500      3 183.000000\n",
      "  2600      4 186.000000\n",
      "  2700      4 250.000000\n",
      "  2800      4 212.000000\n",
      "  2900      6 770.000000\n",
      "  3000      5 370.000000\n",
      "  3100      5 402.000000\n",
      "  3200      5 306.000000\n",
      "  3300      4 274.000000\n",
      "  3400      4 180.000000\n",
      "  3500      6 702.000000\n",
      "  3600      5 342.000000\n",
      "  3700      5 396.000000\n",
      "  3800      4 226.000000\n",
      "  3900      4 282.000000\n",
      "  4000      4 180.000000\n",
      "  4100      6 658.000000\n",
      "  4200      5 315.000000\n",
      "  4300      5 342.000000\n",
      "  4400      6 906.000000\n",
      "  4500      4 242.000000\n",
      "  4600      4 266.000000\n",
      "  4700      4 231.000000\n",
      "  4800      6 626.000000\n",
      "  4900      5 416.000000\n",
      "  5000      3 143.000000\n"
     ]
    },
    {
     "data": {
      "image/png": "[encoded data removed]",
      "text/plain": [
       "<Figure size 432x288 with 1 Axes>"
      ]
     },
     "metadata": {
      "needs_background": "light"
     },
     "output_type": "display_data"
    }
   ],
   "source": [
    "# List with width of all permutations of the elimination list ('V', 'H', 'S', 'L', 'O', 'A', 'T')\n",
    "widthList = []\n",
    "# List with number of multiplications ofr the same permutations\n",
    "mulList = []\n",
    "for i, perm in enumerate(permutations(('V', 'H', 'S', 'L', 'O', 'A', 'T'))):\n",
    "    # Call the width function for the permutation in p\n",
    "    w = ICU_Net.width(perm)\n",
    "    widthList.append(w)\n",
    "    # Initialize muls\n",
    "    muls = 0    \n",
    "    # Call the VE function to copermte the number of multpermications\n",
    "    ICU_Net.VE(perm)\n",
    "    mulList.append(muls)\n",
    "    # Print some information since it may take some time to finish\n",
    "    if (i % 100 == 0):\n",
    "        print(\"%6d %6d %1.6f\" % (i, w, muls))\n",
    "# Generate plots\n",
    "plt.plot(widthList, mulList, 'ro')\n",
    "plt.xlabel(\"Width\")\n",
    "plt.ylabel(\"Number of muls\")\n",
    "plt.show()"
   ]
  },
  {
   "cell_type": "markdown",
   "metadata": {},
   "source": [
    "We can see that width correlates well with the number of multiplications. More importantly, small widths have a small variance that indicates a good performance independently of a specific order. The plot appears to grow exponentially.\n",
    "\n",
    "## Min-degree heuristic\n",
    "\n",
    "Having a good ordering is central to VE algorithm performance. However, it is known that finding the best order is an NP-hard problem.\n",
    "\n",
    "For a small number of variables, we can use the `width` function to test all possible orderings. The next cell implements such an approach for all nine variables."
   ]
  },
  {
   "cell_type": "code",
   "execution_count": 12,
   "metadata": {},
   "outputs": [
    {
     "name": "stdout",
     "output_type": "stream",
     "text": [
      "Order with minimal width 3: \n",
      "('H', 'S', 'V', 'L', 'O', 'A', 'T', 'B', 'C')\n"
     ]
    }
   ],
   "source": [
    "minW = math.inf\n",
    "for perm in permutations(['V', 'H', 'S', 'L', 'O', 'A', 'T', 'B', 'C']):\n",
    "    # Call the width function for the permutation in p\n",
    "    w = ICU_Net.width(perm)\n",
    "    if (w < minW):\n",
    "        minP = perm\n",
    "        minW = w\n",
    "print(\"Order with minimal width %d: \" % minW)\n",
    "\n",
    "print(minP)"
   ]
  },
  {
   "cell_type": "markdown",
   "metadata": {},
   "source": [
    "### Exercise\n",
    "\n",
    "For larger networks, we will need to use a heuristic approach. One of the simplest is known as min-degree. Min-degree and several other ordering heuristics operate over an undirected graph known as an *interaction graph*.\n",
    "\n",
    "The interaction graph is simply a graph in which the nodes are variables, and the edges connect variables that appear in the domain of the same factor. \n",
    "\n",
    "We will start implementing `interactionGraph` a function that receives a dictionary of factors and returns an interaction graph. We use the same adjacency list representation of the first tutorial."
   ]
  },
  {
   "cell_type": "code",
   "execution_count": 13,
   "metadata": {},
   "outputs": [
    {
     "ename": "KeyError",
     "evalue": "'H'",
     "output_type": "error",
     "traceback": [
      "\u001b[0;31m---------------------------------------------------------------------------\u001b[0m",
      "\u001b[0;31mKeyError\u001b[0m                                  Traceback (most recent call last)",
      "\u001b[0;32m<ipython-input-13-0e7808091f7b>\u001b[0m in \u001b[0;36m<module>\u001b[0;34m\u001b[0m\n\u001b[1;32m     44\u001b[0m     \u001b[0;34m'H'\u001b[0m\u001b[0;34m:\u001b[0m \u001b[0;34m'1,3!'\u001b[0m\u001b[0;34m,\u001b[0m\u001b[0;34m\u001b[0m\u001b[0;34m\u001b[0m\u001b[0m\n\u001b[1;32m     45\u001b[0m }\n\u001b[0;32m---> 46\u001b[0;31m \u001b[0mig\u001b[0m \u001b[0;34m=\u001b[0m \u001b[0mICU_Net\u001b[0m\u001b[0;34m.\u001b[0m\u001b[0minteractionGraph\u001b[0m\u001b[0;34m(\u001b[0m\u001b[0;34m)\u001b[0m\u001b[0;34m\u001b[0m\u001b[0;34m\u001b[0m\u001b[0m\n\u001b[0m\u001b[1;32m     47\u001b[0m \u001b[0mig\u001b[0m\u001b[0;34m.\u001b[0m\u001b[0mshow\u001b[0m\u001b[0;34m(\u001b[0m\u001b[0mdirected\u001b[0m\u001b[0;34m=\u001b[0m\u001b[0;32mFalse\u001b[0m\u001b[0;34m,\u001b[0m \u001b[0mpositions\u001b[0m\u001b[0;34m=\u001b[0m\u001b[0mpos\u001b[0m\u001b[0;34m)\u001b[0m\u001b[0;34m\u001b[0m\u001b[0;34m\u001b[0m\u001b[0m\n",
      "\u001b[0;32m<ipython-input-13-0e7808091f7b>\u001b[0m in \u001b[0;36minteractionGraph\u001b[0;34m(self)\u001b[0m\n\u001b[1;32m     18\u001b[0m                 \u001b[0;32mfor\u001b[0m \u001b[0mvar2\u001b[0m \u001b[0;32min\u001b[0m \u001b[0mfactor\u001b[0m\u001b[0;34m.\u001b[0m\u001b[0mdomain\u001b[0m\u001b[0;34m:\u001b[0m\u001b[0;34m\u001b[0m\u001b[0;34m\u001b[0m\u001b[0m\n\u001b[1;32m     19\u001b[0m                     \u001b[0;31m# check if connection already exists\u001b[0m\u001b[0;34m\u001b[0m\u001b[0;34m\u001b[0m\u001b[0;34m\u001b[0m\u001b[0m\n\u001b[0;32m---> 20\u001b[0;31m                     \u001b[0;32mif\u001b[0m \u001b[0mvar1\u001b[0m \u001b[0;34m!=\u001b[0m \u001b[0mvar2\u001b[0m \u001b[0;32mand\u001b[0m \u001b[0mvar1\u001b[0m \u001b[0;32mnot\u001b[0m \u001b[0;32min\u001b[0m \u001b[0mg\u001b[0m\u001b[0;34m.\u001b[0m\u001b[0mchildren\u001b[0m\u001b[0;34m(\u001b[0m\u001b[0mvar2\u001b[0m\u001b[0;34m)\u001b[0m\u001b[0;34m:\u001b[0m\u001b[0;34m\u001b[0m\u001b[0;34m\u001b[0m\u001b[0m\n\u001b[0m\u001b[1;32m     21\u001b[0m                         \u001b[0;31m# add an *undirected* connection\u001b[0m\u001b[0;34m\u001b[0m\u001b[0;34m\u001b[0m\u001b[0;34m\u001b[0m\u001b[0m\n\u001b[1;32m     22\u001b[0m                         \u001b[0;34m...\u001b[0m \u001b[0;31m# TODO 1 line\u001b[0m\u001b[0;34m\u001b[0m\u001b[0;34m\u001b[0m\u001b[0m\n",
      "\u001b[0;32m~/Dropbox/UNSW/Courses/COMP9418/T3-2021/Tutorials/2021/Week04/Practice/Graph.py\u001b[0m in \u001b[0;36mchildren\u001b[0;34m(self, node)\u001b[0m\n\u001b[1;32m     38\u001b[0m         \u001b[0mReturn\u001b[0m \u001b[0ma\u001b[0m \u001b[0mlist\u001b[0m \u001b[0mof\u001b[0m \u001b[0mchildren\u001b[0m \u001b[0mof\u001b[0m \u001b[0ma\u001b[0m \u001b[0mnode\u001b[0m\u001b[0;34m\u001b[0m\u001b[0;34m\u001b[0m\u001b[0m\n\u001b[1;32m     39\u001b[0m         '''\n\u001b[0;32m---> 40\u001b[0;31m         \u001b[0;32mreturn\u001b[0m \u001b[0mself\u001b[0m\u001b[0;34m.\u001b[0m\u001b[0madj_list\u001b[0m\u001b[0;34m[\u001b[0m\u001b[0mnode\u001b[0m\u001b[0;34m]\u001b[0m\u001b[0;34m\u001b[0m\u001b[0;34m\u001b[0m\u001b[0m\n\u001b[0m\u001b[1;32m     41\u001b[0m \u001b[0;34m\u001b[0m\u001b[0m\n\u001b[1;32m     42\u001b[0m     \u001b[0;32mdef\u001b[0m \u001b[0madd_node\u001b[0m\u001b[0;34m(\u001b[0m\u001b[0mself\u001b[0m\u001b[0;34m,\u001b[0m \u001b[0mname\u001b[0m\u001b[0;34m)\u001b[0m\u001b[0;34m:\u001b[0m\u001b[0;34m\u001b[0m\u001b[0;34m\u001b[0m\u001b[0m\n",
      "\u001b[0;31mKeyError\u001b[0m: 'H'"
     ]
    }
   ],
   "source": [
    "# add a function to BayesNet to get interaction graph\n",
    "class BayesNet(BayesNet):\n",
    "    def interactionGraph(self):\n",
    "        '''\n",
    "        Returns the interaction graph for this network.\n",
    "        There are two ways to implement this function:\n",
    "        - Iterate over factors and check which vars are in the same factors\n",
    "        - Start with the directed graph, make it undirected and moralise it\n",
    "        '''\n",
    "        # Initialise an empty graph\n",
    "        g = Graph()\n",
    "        # Add each node to the graph\n",
    "        for var in self.factors.keys():\n",
    "            ... # TODO add node. 1 line\n",
    "        for factor in self.factors.values():\n",
    "            # for every pair of vars in the domain\n",
    "            for var1 in factor.domain:\n",
    "                for var2 in factor.domain:\n",
    "                    # check if connection already exists \n",
    "                    if var1 != var2 and var1 not in g.children(var2):\n",
    "                        # add an *undirected* connection\n",
    "                        ... # TODO 1 line\n",
    "        return g\n",
    "\n",
    "\n",
    "##############\n",
    "# Test code\n",
    "\n",
    "# reinitialise ICU_net so that it has interactionGraph function\n",
    "ICU_Net = BayesNet(ICU_Net.graph, ICU_Net.outcomeSpace, ICU_Net.factors)\n",
    "\n",
    "# List of positions for each node\n",
    "# We use node positions to replicate the previous figure\n",
    "# This can be removed if the nodes do not need to be presented in a specific order\n",
    "pos = {\n",
    "    'B': '1,0!',\n",
    "    'O': '0,1!',\n",
    "    'C': '1,1!',\n",
    "    'T': '2,1!',\n",
    "    'S': '0,2!',\n",
    "    'V': '1,2!',\n",
    "    'A': '2,2!',\n",
    "    'L': '0,3!',\n",
    "    'H': '1,3!',\n",
    "}\n",
    "ig = ICU_Net.interactionGraph()\n",
    "ig.show(directed=False, positions=pos)"
   ]
  },
  {
   "cell_type": "markdown",
   "metadata": {},
   "source": [
    "If your code is correct, you should see the following induced graph:\n",
    "\n",
    "![IG Graph](img/IG.png \"Graph exercise\")\n",
    "\n",
    "Also, this is the ICU network graph for reference:\n",
    "\n",
    "![ICU Graph](img/ICU_graph.png \"Graph exercise\")\n",
    "\n",
    "From this representation, we can see that a min-degree heuristic should start eliminating variables such as `A` and `C`.\n",
    "\n",
    "### Exercise\n",
    "\n",
    "Now, let's implement the `minDegree` function that receives an induced graph and returns a list with a variable elimination order.\n",
    "\n",
    "This function will suggest the nodes with the smallest degree first. Remember that the degree of a node is the number of edges connected to that node. Every time we select a node as the next to be eliminated, we need to remove that node from the graph. This operation will reduce the degree of the nodes directly connected to the removed one."
   ]
  },
  {
   "cell_type": "code",
   "execution_count": 15,
   "metadata": {},
   "outputs": [
    {
     "ename": "TypeError",
     "evalue": "'<' not supported between instances of 'int' and 'ellipsis'",
     "output_type": "error",
     "traceback": [
      "\u001b[0;31m---------------------------------------------------------------------------\u001b[0m",
      "\u001b[0;31mTypeError\u001b[0m                                 Traceback (most recent call last)",
      "\u001b[0;32m<ipython-input-15-468e7a18fe99>\u001b[0m in \u001b[0;36m<module>\u001b[0;34m\u001b[0m\n\u001b[1;32m     34\u001b[0m \u001b[0mICU_Net\u001b[0m \u001b[0;34m=\u001b[0m \u001b[0mBayesNet\u001b[0m\u001b[0;34m(\u001b[0m\u001b[0mICU_Net\u001b[0m\u001b[0;34m.\u001b[0m\u001b[0mgraph\u001b[0m\u001b[0;34m,\u001b[0m \u001b[0mICU_Net\u001b[0m\u001b[0;34m.\u001b[0m\u001b[0moutcomeSpace\u001b[0m\u001b[0;34m,\u001b[0m \u001b[0mICU_Net\u001b[0m\u001b[0;34m.\u001b[0m\u001b[0mfactors\u001b[0m\u001b[0;34m)\u001b[0m\u001b[0;34m\u001b[0m\u001b[0;34m\u001b[0m\u001b[0m\n\u001b[1;32m     35\u001b[0m \u001b[0;34m\u001b[0m\u001b[0m\n\u001b[0;32m---> 36\u001b[0;31m \u001b[0mprint\u001b[0m\u001b[0;34m(\u001b[0m\u001b[0mICU_Net\u001b[0m\u001b[0;34m.\u001b[0m\u001b[0mminDegree\u001b[0m\u001b[0;34m(\u001b[0m\u001b[0;34m)\u001b[0m\u001b[0;34m)\u001b[0m\u001b[0;34m\u001b[0m\u001b[0;34m\u001b[0m\u001b[0m\n\u001b[0m",
      "\u001b[0;32m<ipython-input-15-468e7a18fe99>\u001b[0m in \u001b[0;36mminDegree\u001b[0;34m(self)\u001b[0m\n\u001b[1;32m     11\u001b[0m             \u001b[0;32mfor\u001b[0m \u001b[0mvar\u001b[0m \u001b[0;32min\u001b[0m \u001b[0mig\u001b[0m\u001b[0;34m:\u001b[0m\u001b[0;34m\u001b[0m\u001b[0;34m\u001b[0m\u001b[0m\n\u001b[1;32m     12\u001b[0m                 \u001b[0;31m# Test if var has a degree smaller than minDegree\u001b[0m\u001b[0;34m\u001b[0m\u001b[0;34m\u001b[0m\u001b[0;34m\u001b[0m\u001b[0m\n\u001b[0;32m---> 13\u001b[0;31m                 \u001b[0;32mif\u001b[0m \u001b[0mlen\u001b[0m\u001b[0;34m(\u001b[0m\u001b[0mig\u001b[0m\u001b[0;34m.\u001b[0m\u001b[0mchildren\u001b[0m\u001b[0;34m(\u001b[0m\u001b[0mvar\u001b[0m\u001b[0;34m)\u001b[0m\u001b[0;34m)\u001b[0m \u001b[0;34m<\u001b[0m \u001b[0mminDegree\u001b[0m\u001b[0;34m:\u001b[0m\u001b[0;34m\u001b[0m\u001b[0;34m\u001b[0m\u001b[0m\n\u001b[0m\u001b[1;32m     14\u001b[0m                     \u001b[0;31m# We have found a new candidate to be the next eliminated variable. Let's save its degree and name\u001b[0m\u001b[0;34m\u001b[0m\u001b[0;34m\u001b[0m\u001b[0;34m\u001b[0m\u001b[0m\n\u001b[1;32m     15\u001b[0m                     \u001b[0mminDegree\u001b[0m \u001b[0;34m=\u001b[0m \u001b[0;34m...\u001b[0m \u001b[0;31m# TODO 1 line\u001b[0m\u001b[0;34m\u001b[0m\u001b[0;34m\u001b[0m\u001b[0m\n",
      "\u001b[0;31mTypeError\u001b[0m: '<' not supported between instances of 'int' and 'ellipsis'"
     ]
    }
   ],
   "source": [
    "class BayesNet(BayesNet):\n",
    "    def minDegree(self):\n",
    "        # First get the interaction graph\n",
    "        ig = self.interactionGraph()\n",
    "        # Initialize order with empty list. This variable will have the answer in the end of the execution\n",
    "        order = [] \n",
    "        # While the induced graph has nodes to be eliminated\n",
    "        while len(ig) > 0:\n",
    "            # Initialize minDegree with a large number: math.inf\n",
    "            minDegree = math.inf\n",
    "            for var in ig:\n",
    "                # Test if var has a degree smaller than minDegree\n",
    "                if len(ig.children(var)) < minDegree:\n",
    "                    # We have found a new candidate to be the next eliminated variable. Let's save its degree and name\n",
    "                    minDegree = ... # TODO 1 line\n",
    "                    minVar = ... # TODO 1 line\n",
    "            # We need to connect the neighbours of minVar, let us start using combinations function to find all pairs of minVar's neighbours\n",
    "            for var1, var2 in combinations(ig.children(minVar), 2):\n",
    "                # Check if these neighbour are not already connected by an edge\n",
    "                if var1 not in ig.children(var2):\n",
    "                    # add edge\n",
    "                    ... # TODO 1 line \n",
    "            # Insert into order the variable in minVar\n",
    "            order.append(...) # TODO\n",
    "            # Now, we need to remove minVar from the adjacency list of every node\n",
    "            ig.remove_node(...) # TODO\n",
    "        return order\n",
    "\n",
    "\n",
    "####################\n",
    "# Test code\n",
    "\n",
    "# reinitialise ICU_net so that it has minDegree function\n",
    "ICU_Net = BayesNet(ICU_Net.graph, ICU_Net.outcomeSpace, ICU_Net.factors)\n",
    "\n",
    "print(ICU_Net.minDegree())"
   ]
  },
  {
   "cell_type": "markdown",
   "metadata": {},
   "source": [
    "If your code is correct, you should see the following output:\n",
    "\n",
    "```\n",
    "['A', 'C', 'T', 'B', 'O', 'H', 'L', 'V', 'S']\n",
    "```\n",
    "or\n",
    "```\n",
    "['C', 'A', 'T', 'B', 'O', 'H', 'V', 'L', 'S']\n",
    "```\n",
    "We can compare the width of the ordering provided by the min-degree heuristic to some other order:"
   ]
  },
  {
   "cell_type": "code",
   "execution_count": 17,
   "metadata": {},
   "outputs": [
    {
     "name": "stdout",
     "output_type": "stream",
     "text": [
      "5\n",
      "3\n"
     ]
    }
   ],
   "source": [
    "print(ICU_Net.width(('V', 'H', 'S', 'L', 'O', 'A', 'T', 'B', 'C')))\n",
    "order = ICU_Net.minDegree()\n",
    "print(ICU_Net.width(order))"
   ]
  },
  {
   "cell_type": "markdown",
   "metadata": {},
   "source": [
    "Similarly, we can compare the number of additions and multiplications:"
   ]
  },
  {
   "cell_type": "code",
   "execution_count": 18,
   "metadata": {},
   "outputs": [
    {
     "name": "stdout",
     "output_type": "stream",
     "text": [
      "358\n",
      "342\n",
      "79\n",
      "74\n"
     ]
    }
   ],
   "source": [
    "adds = 0\n",
    "muls = 0\n",
    "ICU_Net.VE(('V', 'H', 'S', 'L', 'O', 'A', 'T', 'B', 'C'))\n",
    "print(adds)\n",
    "print(muls)\n",
    "\n",
    "adds = 0\n",
    "muls = 0\n",
    "ICU_Net.VE(ICU_Net.minDegree())\n",
    "print(adds)\n",
    "print(muls)"
   ]
  },
  {
   "cell_type": "markdown",
   "metadata": {},
   "source": [
    "## Answering Queries\n"
   ]
  },
  {
   "cell_type": "markdown",
   "metadata": {},
   "source": [
    "### Exercise\n",
    "\n",
    "Now it's your turn to implement a function `query` that receives as arguments:\n",
    "\n",
    "1. a list of query variables \n",
    "2. and a list of evidence \n",
    "\n",
    "and returns $P(variables|evidence)$.\n",
    "\n",
    "Before you start, some important observations:\n",
    "\n",
    "* You will need to change some of the factors in the `factors` dict to set evidence on them. For this reason, we created a backup and we restore the `factors` dict after the operation.\n",
    "* Remove the query variables from the elimination order list.\n",
    "* It is up to you if you want to remove the evidence variables from the elimination list.\n",
    "* A final normalization step will answer queries in the format P(Q|e)."
   ]
  },
  {
   "cell_type": "code",
   "execution_count": 19,
   "metadata": {},
   "outputs": [
    {
     "name": "stdout",
     "output_type": "stream",
     "text": [
      "Ellipsis\n"
     ]
    }
   ],
   "source": [
    "import copy\n",
    "class BayesNet(BayesNet):\n",
    "    def query(self, q_vars, **q_evi):\n",
    "        '''\n",
    "        A faster VE-based query function\n",
    "        Returns a factor P(q_vars| q_evi)\n",
    "        '''\n",
    "        # backup factors dict\n",
    "        backup_factors = copy.deepcopy(self.factors)\n",
    "\n",
    "        ... # TODO ~11 lines\n",
    "\n",
    "        # restore original factors\n",
    "        self.factors = backup_factors\n",
    "\n",
    "        # Return factor P(q_vars | q_evi)\n",
    "        return ... # TODO\n",
    "\n",
    "#########################\n",
    "# Test code\n",
    "#########################\n",
    "\n",
    "# reinitialise ICU_net so that it has the new query function\n",
    "ICU_Net = BayesNet(ICU_Net.graph, ICU_Net.outcomeSpace, ICU_Net.factors)\n",
    "\n",
    "print(ICU_Net.query('L', C=2))"
   ]
  },
  {
   "cell_type": "markdown",
   "metadata": {},
   "source": [
    "If your implementation is correct then you should see the following output:\n",
    "\n",
    "```\n",
    "╒═════╤═══════════╕\n",
    "│   L │        Pr │\n",
    "╞═════╪═══════════╡\n",
    "│   0 │ 0.947722  │\n",
    "├─────┼───────────┤\n",
    "│   1 │ 0.0522777 │\n",
    "╘═════╧═══════════╛\n",
    "```"
   ]
  },
  {
   "cell_type": "markdown",
   "metadata": {},
   "source": [
    "## Final Step\n",
    "Go back through the notebook, and copy your solutions into your BayesNet.py file for future use. Your VE function won't need to keep track of additions and multiplications in future, so you can delete these computations."
   ]
  },
  {
   "cell_type": "markdown",
   "metadata": {},
   "source": [
    "## Challenge Exercise\n",
    "\n",
    "The Variable Elimination function implemented above loops over every variable in the elimination order, and has an inner loop over all factors to find the factors to be eliminated in each step. This algorithm takes $O(n^2)$ where $n$ is the size of the graph (ignoring the cost of joining and marginalizing factors, which is usually the main cost). \n",
    "\n",
    "Use an additional data structure to improve your VE implementation to be $O(n)$."
   ]
  },
  {
   "cell_type": "markdown",
   "metadata": {},
   "source": [
    "That is all for today. See you next week!"
   ]
  }
 ],
 "metadata": {
  "interpreter": {
   "hash": "31f2aee4e71d21fbe5cf8b01ff0e069b9275f58929596ceb00d14d90e3e16cd6"
  },
  "kernelspec": {
   "display_name": "Python 3 (ipykernel)",
   "language": "python",
   "name": "python3"
  },
  "language_info": {
   "codemirror_mode": {
    "name": "ipython",
    "version": 3
   },
   "file_extension": ".py",
   "mimetype": "text/x-python",
   "name": "python",
   "nbconvert_exporter": "python",
   "pygments_lexer": "ipython3",
   "version": "3.9.7"
  },
  "toc": {
   "colors": {
    "hover_highlight": "#DAA520",
    "navigate_num": "#000000",
    "navigate_text": "#333333",
    "running_highlight": "#FF0000",
    "selected_highlight": "#FFD700",
    "sidebar_border": "#EEEEEE",
    "wrapper_background": "#FFFFFF"
   },
   "moveMenuLeft": true,
   "nav_menu": {
    "height": "198px",
    "width": "252px"
   },
   "navigate_menu": true,
   "number_sections": true,
   "sideBar": true,
   "threshold": 4,
   "toc_cell": false,
   "toc_position": {
    "height": "783px",
    "left": "0px",
    "right": "1346.87px",
    "top": "108px",
    "width": "212px"
   },
   "toc_section_display": "block",
   "toc_window_display": true,
   "widenNotebook": false
  }
 },
 "nbformat": 4,
 "nbformat_minor": 2
}
